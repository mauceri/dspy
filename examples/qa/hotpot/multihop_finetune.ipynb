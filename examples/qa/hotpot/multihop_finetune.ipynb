{
 "cells": [
  {
   "cell_type": "code",
   "execution_count": 3,
   "metadata": {},
   "outputs": [
    {
     "name": "stdout",
     "output_type": "stream",
     "text": [
      "Collecting dspy\n",
      "  Downloading dspy-0.1.5-py3-none-any.whl.metadata (692 bytes)\n",
      "Collecting dspy-ai==2.4.5 (from dspy)\n",
      "  Downloading dspy_ai-2.4.5-py3-none-any.whl.metadata (36 kB)\n",
      "Collecting backoff~=2.2.1 (from dspy-ai==2.4.5->dspy)\n",
      "  Using cached backoff-2.2.1-py3-none-any.whl.metadata (14 kB)\n",
      "Collecting joblib~=1.3.2 (from dspy-ai==2.4.5->dspy)\n",
      "  Using cached joblib-1.3.2-py3-none-any.whl.metadata (5.4 kB)\n",
      "Collecting openai<2.0.0,>=0.28.1 (from dspy-ai==2.4.5->dspy)\n",
      "  Downloading openai-1.26.0-py3-none-any.whl.metadata (21 kB)\n",
      "Requirement already satisfied: pandas in /Users/mauceric/PRG/corenet/cnenv/lib/python3.11/site-packages (from dspy-ai==2.4.5->dspy) (2.2.1)\n",
      "Requirement already satisfied: regex in /Users/mauceric/PRG/corenet/cnenv/lib/python3.11/site-packages (from dspy-ai==2.4.5->dspy) (2023.12.25)\n",
      "Requirement already satisfied: ujson in /Users/mauceric/PRG/corenet/cnenv/lib/python3.11/site-packages (from dspy-ai==2.4.5->dspy) (5.9.0)\n",
      "Requirement already satisfied: tqdm in /Users/mauceric/PRG/corenet/cnenv/lib/python3.11/site-packages (from dspy-ai==2.4.5->dspy) (4.66.2)\n",
      "Collecting datasets<3.0.0,~=2.14.6 (from dspy-ai==2.4.5->dspy)\n",
      "  Using cached datasets-2.14.7-py3-none-any.whl.metadata (19 kB)\n",
      "Requirement already satisfied: requests in /Users/mauceric/PRG/corenet/cnenv/lib/python3.11/site-packages (from dspy-ai==2.4.5->dspy) (2.31.0)\n",
      "Collecting optuna (from dspy-ai==2.4.5->dspy)\n",
      "  Using cached optuna-3.6.1-py3-none-any.whl.metadata (17 kB)\n",
      "Collecting pydantic==2.5.0 (from dspy-ai==2.4.5->dspy)\n",
      "  Using cached pydantic-2.5.0-py3-none-any.whl.metadata (174 kB)\n",
      "Collecting annotated-types>=0.4.0 (from pydantic==2.5.0->dspy-ai==2.4.5->dspy)\n",
      "  Using cached annotated_types-0.6.0-py3-none-any.whl.metadata (12 kB)\n",
      "Collecting pydantic-core==2.14.1 (from pydantic==2.5.0->dspy-ai==2.4.5->dspy)\n",
      "  Using cached pydantic_core-2.14.1-cp311-cp311-macosx_10_7_x86_64.whl.metadata (6.5 kB)\n",
      "Requirement already satisfied: typing-extensions>=4.6.1 in /Users/mauceric/PRG/corenet/cnenv/lib/python3.11/site-packages (from pydantic==2.5.0->dspy-ai==2.4.5->dspy) (4.11.0)\n",
      "Requirement already satisfied: numpy>=1.17 in /Users/mauceric/PRG/corenet/cnenv/lib/python3.11/site-packages (from datasets<3.0.0,~=2.14.6->dspy-ai==2.4.5->dspy) (1.26.4)\n",
      "Requirement already satisfied: pyarrow>=8.0.0 in /Users/mauceric/PRG/corenet/cnenv/lib/python3.11/site-packages (from datasets<3.0.0,~=2.14.6->dspy-ai==2.4.5->dspy) (15.0.2)\n",
      "Collecting pyarrow-hotfix (from datasets<3.0.0,~=2.14.6->dspy-ai==2.4.5->dspy)\n",
      "  Using cached pyarrow_hotfix-0.6-py3-none-any.whl.metadata (3.6 kB)\n",
      "Collecting dill<0.3.8,>=0.3.0 (from datasets<3.0.0,~=2.14.6->dspy-ai==2.4.5->dspy)\n",
      "  Using cached dill-0.3.7-py3-none-any.whl.metadata (9.9 kB)\n",
      "Collecting xxhash (from datasets<3.0.0,~=2.14.6->dspy-ai==2.4.5->dspy)\n",
      "  Using cached xxhash-3.4.1-cp311-cp311-macosx_10_9_x86_64.whl.metadata (12 kB)\n",
      "Collecting multiprocess (from datasets<3.0.0,~=2.14.6->dspy-ai==2.4.5->dspy)\n",
      "  Using cached multiprocess-0.70.16-py311-none-any.whl.metadata (7.2 kB)\n",
      "Collecting fsspec<=2023.10.0,>=2023.1.0 (from fsspec[http]<=2023.10.0,>=2023.1.0->datasets<3.0.0,~=2.14.6->dspy-ai==2.4.5->dspy)\n",
      "  Using cached fsspec-2023.10.0-py3-none-any.whl.metadata (6.8 kB)\n",
      "Collecting aiohttp (from datasets<3.0.0,~=2.14.6->dspy-ai==2.4.5->dspy)\n",
      "  Downloading aiohttp-3.9.5-cp311-cp311-macosx_10_9_x86_64.whl.metadata (7.5 kB)\n",
      "Collecting huggingface-hub<1.0.0,>=0.14.0 (from datasets<3.0.0,~=2.14.6->dspy-ai==2.4.5->dspy)\n",
      "  Downloading huggingface_hub-0.23.0-py3-none-any.whl.metadata (12 kB)\n",
      "Requirement already satisfied: packaging in /Users/mauceric/PRG/corenet/cnenv/lib/python3.11/site-packages (from datasets<3.0.0,~=2.14.6->dspy-ai==2.4.5->dspy) (24.0)\n",
      "Requirement already satisfied: pyyaml>=5.1 in /Users/mauceric/PRG/corenet/cnenv/lib/python3.11/site-packages (from datasets<3.0.0,~=2.14.6->dspy-ai==2.4.5->dspy) (6.0.1)\n",
      "Collecting anyio<5,>=3.5.0 (from openai<2.0.0,>=0.28.1->dspy-ai==2.4.5->dspy)\n",
      "  Using cached anyio-4.3.0-py3-none-any.whl.metadata (4.6 kB)\n",
      "Collecting distro<2,>=1.7.0 (from openai<2.0.0,>=0.28.1->dspy-ai==2.4.5->dspy)\n",
      "  Using cached distro-1.9.0-py3-none-any.whl.metadata (6.8 kB)\n",
      "Collecting httpx<1,>=0.23.0 (from openai<2.0.0,>=0.28.1->dspy-ai==2.4.5->dspy)\n",
      "  Using cached httpx-0.27.0-py3-none-any.whl.metadata (7.2 kB)\n",
      "Collecting sniffio (from openai<2.0.0,>=0.28.1->dspy-ai==2.4.5->dspy)\n",
      "  Using cached sniffio-1.3.1-py3-none-any.whl.metadata (3.9 kB)\n",
      "Requirement already satisfied: charset-normalizer<4,>=2 in /Users/mauceric/PRG/corenet/cnenv/lib/python3.11/site-packages (from requests->dspy-ai==2.4.5->dspy) (3.3.2)\n",
      "Requirement already satisfied: idna<4,>=2.5 in /Users/mauceric/PRG/corenet/cnenv/lib/python3.11/site-packages (from requests->dspy-ai==2.4.5->dspy) (3.7)\n",
      "Requirement already satisfied: urllib3<3,>=1.21.1 in /Users/mauceric/PRG/corenet/cnenv/lib/python3.11/site-packages (from requests->dspy-ai==2.4.5->dspy) (2.0.7)\n",
      "Requirement already satisfied: certifi>=2017.4.17 in /Users/mauceric/PRG/corenet/cnenv/lib/python3.11/site-packages (from requests->dspy-ai==2.4.5->dspy) (2024.2.2)\n",
      "Collecting alembic>=1.5.0 (from optuna->dspy-ai==2.4.5->dspy)\n",
      "  Using cached alembic-1.13.1-py3-none-any.whl.metadata (7.4 kB)\n",
      "Collecting colorlog (from optuna->dspy-ai==2.4.5->dspy)\n",
      "  Using cached colorlog-6.8.2-py3-none-any.whl.metadata (10 kB)\n",
      "Collecting sqlalchemy>=1.3.0 (from optuna->dspy-ai==2.4.5->dspy)\n",
      "  Downloading SQLAlchemy-2.0.30-cp311-cp311-macosx_10_9_x86_64.whl.metadata (9.6 kB)\n",
      "Requirement already satisfied: python-dateutil>=2.8.2 in /Users/mauceric/PRG/corenet/cnenv/lib/python3.11/site-packages (from pandas->dspy-ai==2.4.5->dspy) (2.9.0.post0)\n",
      "Requirement already satisfied: pytz>=2020.1 in /Users/mauceric/PRG/corenet/cnenv/lib/python3.11/site-packages (from pandas->dspy-ai==2.4.5->dspy) (2024.1)\n",
      "Requirement already satisfied: tzdata>=2022.7 in /Users/mauceric/PRG/corenet/cnenv/lib/python3.11/site-packages (from pandas->dspy-ai==2.4.5->dspy) (2024.1)\n",
      "Collecting Mako (from alembic>=1.5.0->optuna->dspy-ai==2.4.5->dspy)\n",
      "  Downloading Mako-1.3.3-py3-none-any.whl.metadata (2.9 kB)\n",
      "Collecting aiosignal>=1.1.2 (from aiohttp->datasets<3.0.0,~=2.14.6->dspy-ai==2.4.5->dspy)\n",
      "  Using cached aiosignal-1.3.1-py3-none-any.whl.metadata (4.0 kB)\n",
      "Requirement already satisfied: attrs>=17.3.0 in /Users/mauceric/PRG/corenet/cnenv/lib/python3.11/site-packages (from aiohttp->datasets<3.0.0,~=2.14.6->dspy-ai==2.4.5->dspy) (23.2.0)\n",
      "Collecting frozenlist>=1.1.1 (from aiohttp->datasets<3.0.0,~=2.14.6->dspy-ai==2.4.5->dspy)\n",
      "  Using cached frozenlist-1.4.1-cp311-cp311-macosx_10_9_x86_64.whl.metadata (12 kB)\n",
      "Collecting multidict<7.0,>=4.5 (from aiohttp->datasets<3.0.0,~=2.14.6->dspy-ai==2.4.5->dspy)\n",
      "  Using cached multidict-6.0.5-cp311-cp311-macosx_10_9_x86_64.whl.metadata (4.2 kB)\n",
      "Collecting yarl<2.0,>=1.0 (from aiohttp->datasets<3.0.0,~=2.14.6->dspy-ai==2.4.5->dspy)\n",
      "  Using cached yarl-1.9.4-cp311-cp311-macosx_10_9_x86_64.whl.metadata (31 kB)\n",
      "Collecting httpcore==1.* (from httpx<1,>=0.23.0->openai<2.0.0,>=0.28.1->dspy-ai==2.4.5->dspy)\n",
      "  Using cached httpcore-1.0.5-py3-none-any.whl.metadata (20 kB)\n",
      "Collecting h11<0.15,>=0.13 (from httpcore==1.*->httpx<1,>=0.23.0->openai<2.0.0,>=0.28.1->dspy-ai==2.4.5->dspy)\n",
      "  Using cached h11-0.14.0-py3-none-any.whl.metadata (8.2 kB)\n",
      "Requirement already satisfied: filelock in /Users/mauceric/PRG/corenet/cnenv/lib/python3.11/site-packages (from huggingface-hub<1.0.0,>=0.14.0->datasets<3.0.0,~=2.14.6->dspy-ai==2.4.5->dspy) (3.14.0)\n",
      "Requirement already satisfied: six>=1.5 in /Users/mauceric/PRG/corenet/cnenv/lib/python3.11/site-packages (from python-dateutil>=2.8.2->pandas->dspy-ai==2.4.5->dspy) (1.16.0)\n",
      "Collecting greenlet!=0.4.17 (from sqlalchemy>=1.3.0->optuna->dspy-ai==2.4.5->dspy)\n",
      "  Using cached greenlet-3.0.3-cp311-cp311-macosx_11_0_universal2.whl.metadata (3.8 kB)\n",
      "INFO: pip is looking at multiple versions of multiprocess to determine which version is compatible with other requirements. This could take a while.\n",
      "Collecting multiprocess (from datasets<3.0.0,~=2.14.6->dspy-ai==2.4.5->dspy)\n",
      "  Using cached multiprocess-0.70.15-py311-none-any.whl.metadata (7.2 kB)\n",
      "Requirement already satisfied: MarkupSafe>=0.9.2 in /Users/mauceric/PRG/corenet/cnenv/lib/python3.11/site-packages (from Mako->alembic>=1.5.0->optuna->dspy-ai==2.4.5->dspy) (2.1.5)\n",
      "Downloading dspy-0.1.5-py3-none-any.whl (1.3 kB)\n",
      "Downloading dspy_ai-2.4.5-py3-none-any.whl (197 kB)\n",
      "\u001b[2K   \u001b[90m━━━━━━━━━━━━━━━━━━━━━━━━━━━━━━━━━━━━━━━\u001b[0m \u001b[32m197.5/197.5 kB\u001b[0m \u001b[31m582.4 kB/s\u001b[0m eta \u001b[36m0:00:00\u001b[0m00:01\u001b[0m00:01\u001b[0m\n",
      "\u001b[?25hUsing cached pydantic-2.5.0-py3-none-any.whl (407 kB)\n",
      "Using cached pydantic_core-2.14.1-cp311-cp311-macosx_10_7_x86_64.whl (1.9 MB)\n",
      "Using cached backoff-2.2.1-py3-none-any.whl (15 kB)\n",
      "Using cached datasets-2.14.7-py3-none-any.whl (520 kB)\n",
      "Using cached joblib-1.3.2-py3-none-any.whl (302 kB)\n",
      "Downloading openai-1.26.0-py3-none-any.whl (314 kB)\n",
      "\u001b[2K   \u001b[90m━━━━━━━━━━━━━━━━━━━━━━━━━━━━━━━━━━━━━━━\u001b[0m \u001b[32m314.1/314.1 kB\u001b[0m \u001b[31m880.8 kB/s\u001b[0m eta \u001b[36m0:00:00\u001b[0ma \u001b[36m0:00:01\u001b[0m\n",
      "\u001b[?25hUsing cached optuna-3.6.1-py3-none-any.whl (380 kB)\n",
      "Using cached alembic-1.13.1-py3-none-any.whl (233 kB)\n",
      "Using cached annotated_types-0.6.0-py3-none-any.whl (12 kB)\n",
      "Using cached anyio-4.3.0-py3-none-any.whl (85 kB)\n",
      "Using cached dill-0.3.7-py3-none-any.whl (115 kB)\n",
      "Using cached distro-1.9.0-py3-none-any.whl (20 kB)\n",
      "Using cached fsspec-2023.10.0-py3-none-any.whl (166 kB)\n",
      "Downloading aiohttp-3.9.5-cp311-cp311-macosx_10_9_x86_64.whl (402 kB)\n",
      "\u001b[2K   \u001b[90m━━━━━━━━━━━━━━━━━━━━━━━━━━━━━━━━━━━━━━━\u001b[0m \u001b[32m402.4/402.4 kB\u001b[0m \u001b[31m893.0 kB/s\u001b[0m eta \u001b[36m0:00:00\u001b[0m00:01\u001b[0m00:01\u001b[0m\n",
      "\u001b[?25hUsing cached httpx-0.27.0-py3-none-any.whl (75 kB)\n",
      "Using cached httpcore-1.0.5-py3-none-any.whl (77 kB)\n",
      "Downloading huggingface_hub-0.23.0-py3-none-any.whl (401 kB)\n",
      "\u001b[2K   \u001b[90m━━━━━━━━━━━━━━━━━━━━━━━━━━━━━━━━━━━━━━━\u001b[0m \u001b[32m401.2/401.2 kB\u001b[0m \u001b[31m901.3 kB/s\u001b[0m eta \u001b[36m0:00:00\u001b[0ma \u001b[36m0:00:01\u001b[0m\n",
      "\u001b[?25hUsing cached sniffio-1.3.1-py3-none-any.whl (10 kB)\n",
      "Downloading SQLAlchemy-2.0.30-cp311-cp311-macosx_10_9_x86_64.whl (2.1 MB)\n",
      "\u001b[2K   \u001b[90m━━━━━━━━━━━━━━━━━━━━━━━━━━━━━━━━━━━━━━━━\u001b[0m \u001b[32m2.1/2.1 MB\u001b[0m \u001b[31m914.2 kB/s\u001b[0m eta \u001b[36m0:00:00\u001b[0m00:01\u001b[0m00:01\u001b[0m\n",
      "\u001b[?25hUsing cached colorlog-6.8.2-py3-none-any.whl (11 kB)\n",
      "Using cached multiprocess-0.70.15-py311-none-any.whl (135 kB)\n",
      "Using cached pyarrow_hotfix-0.6-py3-none-any.whl (7.9 kB)\n",
      "Using cached xxhash-3.4.1-cp311-cp311-macosx_10_9_x86_64.whl (31 kB)\n",
      "Using cached aiosignal-1.3.1-py3-none-any.whl (7.6 kB)\n",
      "Using cached frozenlist-1.4.1-cp311-cp311-macosx_10_9_x86_64.whl (55 kB)\n",
      "Using cached greenlet-3.0.3-cp311-cp311-macosx_11_0_universal2.whl (271 kB)\n",
      "Using cached multidict-6.0.5-cp311-cp311-macosx_10_9_x86_64.whl (30 kB)\n",
      "Using cached yarl-1.9.4-cp311-cp311-macosx_10_9_x86_64.whl (83 kB)\n",
      "Downloading Mako-1.3.3-py3-none-any.whl (78 kB)\n",
      "\u001b[2K   \u001b[90m━━━━━━━━━━━━━━━━━━━━━━━━━━━━━━━━━━━━━━━━\u001b[0m \u001b[32m78.8/78.8 kB\u001b[0m \u001b[31m526.2 kB/s\u001b[0m eta \u001b[36m0:00:00\u001b[0ma \u001b[36m0:00:01\u001b[0m\n",
      "\u001b[?25hUsing cached h11-0.14.0-py3-none-any.whl (58 kB)\n",
      "Installing collected packages: xxhash, sniffio, pydantic-core, pyarrow-hotfix, multidict, Mako, joblib, h11, greenlet, fsspec, frozenlist, distro, dill, colorlog, backoff, annotated-types, yarl, sqlalchemy, pydantic, multiprocess, huggingface-hub, httpcore, anyio, aiosignal, httpx, alembic, aiohttp, optuna, openai, datasets, dspy-ai, dspy\n",
      "  Attempting uninstall: joblib\n",
      "    Found existing installation: joblib 1.4.2\n",
      "    Uninstalling joblib-1.4.2:\n",
      "      Successfully uninstalled joblib-1.4.2\n",
      "  Attempting uninstall: fsspec\n",
      "    Found existing installation: fsspec 2024.3.1\n",
      "    Uninstalling fsspec-2024.3.1:\n",
      "      Successfully uninstalled fsspec-2024.3.1\n",
      "Successfully installed Mako-1.3.3 aiohttp-3.9.5 aiosignal-1.3.1 alembic-1.13.1 annotated-types-0.6.0 anyio-4.3.0 backoff-2.2.1 colorlog-6.8.2 datasets-2.14.7 dill-0.3.7 distro-1.9.0 dspy-0.1.5 dspy-ai-2.4.5 frozenlist-1.4.1 fsspec-2023.10.0 greenlet-3.0.3 h11-0.14.0 httpcore-1.0.5 httpx-0.27.0 huggingface-hub-0.23.0 joblib-1.3.2 multidict-6.0.5 multiprocess-0.70.15 openai-1.26.0 optuna-3.6.1 pyarrow-hotfix-0.6 pydantic-2.5.0 pydantic-core-2.14.1 sniffio-1.3.1 sqlalchemy-2.0.30 xxhash-3.4.1 yarl-1.9.4\n",
      "\n",
      "\u001b[1m[\u001b[0m\u001b[34;49mnotice\u001b[0m\u001b[1;39;49m]\u001b[0m\u001b[39;49m A new release of pip is available: \u001b[0m\u001b[31;49m23.3.1\u001b[0m\u001b[39;49m -> \u001b[0m\u001b[32;49m24.0\u001b[0m\n",
      "\u001b[1m[\u001b[0m\u001b[34;49mnotice\u001b[0m\u001b[1;39;49m]\u001b[0m\u001b[39;49m To update, run: \u001b[0m\u001b[32;49mpip install --upgrade pip\u001b[0m\n"
     ]
    }
   ],
   "source": [
    "!pip install dspy"
   ]
  },
  {
   "cell_type": "code",
   "execution_count": 2,
   "metadata": {
    "scrolled": true
   },
   "outputs": [
    {
     "name": "stdout",
     "output_type": "stream",
     "text": [
      "The autoreload extension is already loaded. To reload it, use:\n",
      "  %reload_ext autoreload\n"
     ]
    },
    {
     "ename": "ModuleNotFoundError",
     "evalue": "No module named 'dspy'",
     "output_type": "error",
     "traceback": [
      "\u001b[0;31m---------------------------------------------------------------------------\u001b[0m",
      "\u001b[0;31mModuleNotFoundError\u001b[0m                       Traceback (most recent call last)",
      "Cell \u001b[0;32mIn[2], line 7\u001b[0m\n\u001b[1;32m      2\u001b[0m get_ipython()\u001b[38;5;241m.\u001b[39mrun_line_magic(\u001b[38;5;124m'\u001b[39m\u001b[38;5;124mautoreload\u001b[39m\u001b[38;5;124m'\u001b[39m, \u001b[38;5;124m'\u001b[39m\u001b[38;5;124m2\u001b[39m\u001b[38;5;124m'\u001b[39m)\n\u001b[1;32m      4\u001b[0m \u001b[38;5;66;03m# %set_env CUDA_VISIBLE_DEVICES=7\u001b[39;00m\n\u001b[1;32m      5\u001b[0m \u001b[38;5;66;03m# import sys; sys.path.append('/future/u/okhattab/repos/public/stanfordnlp/dspy')\u001b[39;00m\n\u001b[0;32m----> 7\u001b[0m \u001b[38;5;28;01mimport\u001b[39;00m \u001b[38;5;21;01mdspy\u001b[39;00m\n\u001b[1;32m      8\u001b[0m \u001b[38;5;28;01mfrom\u001b[39;00m \u001b[38;5;21;01mdspy\u001b[39;00m\u001b[38;5;21;01m.\u001b[39;00m\u001b[38;5;21;01mevaluate\u001b[39;00m \u001b[38;5;28;01mimport\u001b[39;00m Evaluate\n\u001b[1;32m      9\u001b[0m \u001b[38;5;28;01mfrom\u001b[39;00m \u001b[38;5;21;01mdspy\u001b[39;00m\u001b[38;5;21;01m.\u001b[39;00m\u001b[38;5;21;01mdatasets\u001b[39;00m\u001b[38;5;21;01m.\u001b[39;00m\u001b[38;5;21;01mhotpotqa\u001b[39;00m \u001b[38;5;28;01mimport\u001b[39;00m HotPotQA\n",
      "\u001b[0;31mModuleNotFoundError\u001b[0m: No module named 'dspy'"
     ]
    }
   ],
   "source": [
    "%load_ext autoreload\n",
    "%autoreload 2\n",
    "\n",
    "# %set_env CUDA_VISIBLE_DEVICES=7\n",
    "# import sys; sys.path.append('/future/u/okhattab/repos/public/stanfordnlp/dspy')\n",
    "\n",
    "import dspy\n",
    "from dspy.evaluate import Evaluate\n",
    "from dspy.datasets.hotpotqa import HotPotQA\n",
    "from dspy.teleprompt import BootstrapFewShotWithRandomSearch, BootstrapFinetune"
   ]
  },
  {
   "cell_type": "markdown",
   "metadata": {},
   "source": [
    "### 1) Configure the default LM and retriever"
   ]
  },
  {
   "cell_type": "code",
   "execution_count": 2,
   "metadata": {},
   "outputs": [],
   "source": [
    "ports = [7140, 7141, 7142, 7143, 7144, 7145]\n",
    "llamaChat = dspy.HFClientTGI(model=\"meta-llama/Llama-2-13b-chat-hf\", port=ports, max_tokens=150)\n",
    "colbertv2 = dspy.ColBERTv2(url='http://20.102.90.50:2017/wiki17_abstracts')\n",
    "\n",
    "dspy.settings.configure(rm=colbertv2, lm=llamaChat)"
   ]
  },
  {
   "cell_type": "markdown",
   "metadata": {},
   "source": [
    "### 2) Load a small sample of HotPotQA data"
   ]
  },
  {
   "cell_type": "code",
   "execution_count": 3,
   "metadata": {},
   "outputs": [
    {
     "data": {
      "text/plain": [
       "(200, 1000, 0)"
      ]
     },
     "execution_count": 3,
     "metadata": {},
     "output_type": "execute_result"
    }
   ],
   "source": [
    "dataset = HotPotQA(train_seed=1, train_size=200, eval_seed=2023, dev_size=1000, test_size=0)\n",
    "trainset = [x.with_inputs('question') for x in dataset.train]\n",
    "devset = [x.with_inputs('question') for x in dataset.dev]\n",
    "testset = [x.with_inputs('question') for x in dataset.test]\n",
    "\n",
    "len(trainset), len(devset), len(testset)"
   ]
  },
  {
   "cell_type": "code",
   "execution_count": 21,
   "metadata": {},
   "outputs": [
    {
     "data": {
      "text/plain": [
       "Example({'question': 'At My Window was released by which American singer-songwriter?', 'answer': 'John Townes Van Zandt'}) (input_keys={'question'})"
      ]
     },
     "execution_count": 21,
     "metadata": {},
     "output_type": "execute_result"
    }
   ],
   "source": [
    "trainset[0]"
   ]
  },
  {
   "cell_type": "markdown",
   "metadata": {},
   "source": [
    "### 3) Define a simple multi-hop program"
   ]
  },
  {
   "cell_type": "code",
   "execution_count": 4,
   "metadata": {},
   "outputs": [],
   "source": [
    "from dsp.utils.utils import deduplicate\n",
    "\n",
    "class BasicMH(dspy.Module):\n",
    "    def __init__(self, passages_per_hop=3):\n",
    "        super().__init__()\n",
    "\n",
    "        self.retrieve = dspy.Retrieve(k=passages_per_hop)\n",
    "        self.generate_query = [dspy.ChainOfThought(\"context, question -> search_query\") for _ in range(2)]\n",
    "        self.generate_answer = dspy.ChainOfThought(\"context, question -> answer\")\n",
    "    \n",
    "    def forward(self, question):\n",
    "        context = []\n",
    "        \n",
    "        for hop in range(2):\n",
    "            search_query = self.generate_query[hop](context=context, question=question).search_query\n",
    "            passages = self.retrieve(search_query).passages\n",
    "            context = deduplicate(context + passages)\n",
    "\n",
    "        return self.generate_answer(context=context, question=question).copy(context=context)"
   ]
  },
  {
   "cell_type": "markdown",
   "metadata": {},
   "source": [
    "### 4) Compile the program with `Llama2-13b-chat`"
   ]
  },
  {
   "cell_type": "code",
   "execution_count": 5,
   "metadata": {},
   "outputs": [],
   "source": [
    "RECOMPILE_INTO_LLAMA_FROM_SCRATCH = False\n",
    "NUM_THREADS = 24\n",
    "\n",
    "metric_EM = dspy.evaluate.answer_exact_match"
   ]
  },
  {
   "cell_type": "code",
   "execution_count": 6,
   "metadata": {},
   "outputs": [],
   "source": [
    "if RECOMPILE_INTO_LLAMA_FROM_SCRATCH:\n",
    "    tp = BootstrapFewShotWithRandomSearch(metric=metric_EM, max_bootstrapped_demos=2, num_threads=NUM_THREADS)\n",
    "    basicmh_bs = tp.compile(BasicMH(), trainset=trainset[:50], valset=trainset[50:200])\n",
    "\n",
    "    ensemble = [prog for *_, prog in basicmh_bs.candidate_programs[:4]]\n",
    "\n",
    "    for idx, prog in enumerate(ensemble):\n",
    "        # prog.save(f'checkpoints/multihop_llama213b_{idx}.json')\n",
    "        pass"
   ]
  },
  {
   "cell_type": "code",
   "execution_count": 7,
   "metadata": {},
   "outputs": [],
   "source": [
    "if not RECOMPILE_INTO_LLAMA_FROM_SCRATCH:\n",
    "    ensemble = []\n",
    "\n",
    "    for idx in range(4):\n",
    "        prog = BasicMH()\n",
    "        prog.load(f'checkpoints/multihop_llama213b_{idx}.json')\n",
    "        ensemble.append(prog)"
   ]
  },
  {
   "cell_type": "code",
   "execution_count": 8,
   "metadata": {},
   "outputs": [
    {
     "name": "stderr",
     "output_type": "stream",
     "text": [
      "Average Metric: 424 / 1000  (42.4): 100%|██████████| 1000/1000 [00:14<00:00, 70.51it/s]\n"
     ]
    },
    {
     "name": "stdout",
     "output_type": "stream",
     "text": [
      "Average Metric: 424 / 1000  (42.4%)\n"
     ]
    },
    {
     "data": {
      "text/plain": [
       "42.4"
      ]
     },
     "execution_count": 8,
     "metadata": {},
     "output_type": "execute_result"
    }
   ],
   "source": [
    "llama_program = ensemble[0]\n",
    "\n",
    "evaluate_hotpot = Evaluate(devset=devset[:1000], metric=metric_EM, num_threads=NUM_THREADS, display_progress=True, display_table=0)\n",
    "evaluate_hotpot(llama_program)"
   ]
  },
  {
   "cell_type": "code",
   "execution_count": null,
   "metadata": {},
   "outputs": [],
   "source": [
    "llama_program(question=\"How many storeys are in the castle that David Gregory inherited?\")\n",
    "\n",
    "llamaChat.inspect_history(n=3)"
   ]
  },
  {
   "cell_type": "markdown",
   "metadata": {},
   "source": [
    "### 6) Compile into `T5-Large` (770M parameters)"
   ]
  },
  {
   "cell_type": "code",
   "execution_count": 10,
   "metadata": {},
   "outputs": [
    {
     "data": {
      "text/plain": [
       "3000"
      ]
     },
     "execution_count": 10,
     "metadata": {},
     "output_type": "execute_result"
    }
   ],
   "source": [
    "unlabeled_train = HotPotQA(train_seed=1, train_size=3000, eval_seed=2023, dev_size=0, test_size=0).train\n",
    "unlabeled_train = [dspy.Example(question=x.question).with_inputs('question') for x in unlabeled_train]\n",
    "len(unlabeled_train)"
   ]
  },
  {
   "cell_type": "markdown",
   "metadata": {},
   "source": [
    "Optional step: pre-compute the ensemble on the unlabeled training set"
   ]
  },
  {
   "cell_type": "code",
   "execution_count": null,
   "metadata": {},
   "outputs": [],
   "source": [
    "always_true = lambda g, p, trace=None: True\n",
    "\n",
    "for prog_ in ensemble:\n",
    "    evaluate_hotpot(prog_, devset=unlabeled_train[:3000], metric=always_true)"
   ]
  },
  {
   "cell_type": "markdown",
   "metadata": {},
   "source": [
    "Now compile into T5!"
   ]
  },
  {
   "cell_type": "code",
   "execution_count": 13,
   "metadata": {},
   "outputs": [],
   "source": [
    "RECOMPILE_INTO_T5_FROM_SCRATCH = False\n",
    "\n",
    "if RECOMPILE_INTO_T5_FROM_SCRATCH:\n",
    "    config = dict(target='t5-large', epochs=2, bf16=True, bsize=6, accumsteps=2, lr=5e-5)\n",
    "\n",
    "    tp = BootstrapFinetune(metric=None)\n",
    "    t5_program = tp.compile(BasicMH(), teacher=ensemble, trainset=unlabeled_train[:3000], **config)\n",
    "\n",
    "    # Deactivate chain of thought prompting. Let's use T5 to directly predict outputs. (Faster and similar quality.)\n",
    "    for p in t5_program.predictors(): p.activated = False"
   ]
  },
  {
   "cell_type": "code",
   "execution_count": null,
   "metadata": {},
   "outputs": [],
   "source": [
    "if not RECOMPILE_INTO_T5_FROM_SCRATCH:\n",
    "    t5_program = BasicMH()\n",
    "\n",
    "    # ckpt_path = '../finetuning_ckpts/LMWEP0WZ5IKWM.all/checkpoint-5400'\n",
    "    ckpt_path = \"colbert-ir/dspy-Oct11-T5-Large-MH-3k-v1\"\n",
    "    LM = dspy.HFModel(checkpoint=ckpt_path, model='t5-large')\n",
    "\n",
    "    for p in t5_program.predictors():\n",
    "        p.lm = LM\n",
    "        p.activated = False"
   ]
  },
  {
   "cell_type": "markdown",
   "metadata": {},
   "source": [
    "### 7) Evaluate the T5-Large `multihop` program"
   ]
  },
  {
   "cell_type": "code",
   "execution_count": null,
   "metadata": {},
   "outputs": [],
   "source": [
    "score = evaluate_hotpot(t5_program, num_threads=1)"
   ]
  },
  {
   "cell_type": "code",
   "execution_count": null,
   "metadata": {},
   "outputs": [],
   "source": [
    "t5_program.predictors()[0].lm.inspect_history(n=3)"
   ]
  },
  {
   "cell_type": "code",
   "execution_count": null,
   "metadata": {},
   "outputs": [],
   "source": []
  }
 ],
 "metadata": {
  "kernelspec": {
   "display_name": "Python 3 (ipykernel)",
   "language": "python",
   "name": "python3"
  },
  "language_info": {
   "codemirror_mode": {
    "name": "ipython",
    "version": 3
   },
   "file_extension": ".py",
   "mimetype": "text/x-python",
   "name": "python",
   "nbconvert_exporter": "python",
   "pygments_lexer": "ipython3",
   "version": "3.11.7"
  }
 },
 "nbformat": 4,
 "nbformat_minor": 4
}
